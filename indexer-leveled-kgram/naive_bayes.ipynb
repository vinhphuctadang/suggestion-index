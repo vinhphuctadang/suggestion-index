{
 "metadata": {
  "language_info": {
   "codemirror_mode": {
    "name": "ipython",
    "version": 3
   },
   "file_extension": ".py",
   "mimetype": "text/x-python",
   "name": "python",
   "nbconvert_exporter": "python",
   "pygments_lexer": "ipython3",
   "version": "3.6.8"
  },
  "orig_nbformat": 2,
  "kernelspec": {
   "name": "python3",
   "display_name": "Python 3.6.8 64-bit",
   "metadata": {
    "interpreter": {
     "hash": "aee8b7b246df8f9039afb4144a1f6fd8d2ca17a180786b69acc140d282b71a49"
    }
   }
  }
 },
 "nbformat": 4,
 "nbformat_minor": 2,
 "cells": [
  {
   "cell_type": "code",
   "execution_count": 41,
   "metadata": {},
   "outputs": [
    {
     "output_type": "execute_result",
     "data": {
      "text/plain": [
       "[['black', 'suite'],\n",
       " ['red', 'dress'],\n",
       " ['men', 'black', 'suite'],\n",
       " ['castle'],\n",
       " ['toy', 'castle'],\n",
       " ['vincent', 'large'],\n",
       " ['4', 'full', 'set', 'token'],\n",
       " ['15\"', 'color', 'tv'],\n",
       " ['colorful', 'pencils'],\n",
       " ['kid', 'play', 'crayons', 'set']]"
      ]
     },
     "metadata": {},
     "execution_count": 41
    }
   ],
   "source": [
    "import re\n",
    "data = None\n",
    "with open(\"small-suggests.txt\", encoding=\"utf8\") as f:\n",
    "    data = f.read().split(\"\\n\")\n",
    "\n",
    "for i in range(len(data)):\n",
    "    data[i] = data[i].replace(\"_\", \" \").split()\n",
    "data[:10]"
   ]
  },
  {
   "source": [
    "# Encode to number"
   ],
   "cell_type": "markdown",
   "metadata": {}
  },
  {
   "cell_type": "code",
   "execution_count": 42,
   "metadata": {},
   "outputs": [],
   "source": [
    "word_dict = dict()\n",
    "word_list = list()\n",
    "word_index = 0\n",
    "for line in data:\n",
    "    for i in range(len(line)):\n",
    "        if line[i] not in word_dict:\n",
    "            word_dict[line[i]] = word_index\n",
    "            word_list.append(line[i])\n",
    "            line[i] = word_index\n",
    "            word_index += 1\n",
    "        else:\n",
    "            line[i] = word_dict[line[i]]\n"
   ]
  },
  {
   "cell_type": "code",
   "execution_count": 48,
   "metadata": {},
   "outputs": [
    {
     "output_type": "execute_result",
     "data": {
      "text/plain": [
       "[['bl', 'la', 'ac', 'ck'],\n",
       " ['su', 'ui', 'it', 'te'],\n",
       " ['re', 'ed'],\n",
       " ['dr', 're', 'es', 'ss'],\n",
       " ['me', 'en'],\n",
       " ['ca', 'as', 'st', 'tl', 'le'],\n",
       " ['to', 'oy'],\n",
       " ['vi', 'in', 'nc', 'ce', 'en', 'nt'],\n",
       " ['la', 'ar', 'rg', 'ge'],\n",
       " [],\n",
       " ['fu', 'ul', 'll'],\n",
       " ['se', 'et'],\n",
       " ['to', 'ok', 'ke', 'en'],\n",
       " ['15', '5\"'],\n",
       " ['co', 'ol', 'lo', 'or'],\n",
       " ['tv'],\n",
       " ['co', 'ol', 'lo', 'or', 'rf', 'fu', 'ul'],\n",
       " ['pe', 'en', 'nc', 'ci', 'il', 'ls'],\n",
       " ['ki', 'id'],\n",
       " ['pl', 'la', 'ay'],\n",
       " ['cr', 'ra', 'ay', 'yo', 'on', 'ns']]"
      ]
     },
     "metadata": {},
     "execution_count": 48
    }
   ],
   "source": [
    "bigrams = []\n",
    "for word in word_list:\n",
    "    if len(word) == 1:\n",
    "        bigrams.append([\"$\"+word, word+\"$\"])\n",
    "    word = \"$\" + word + \"$\"\n",
    "    bigrams.append([word[i:i+2] for i in range(0, len(word)-1)])\n",
    "bigrams"
   ]
  },
  {
   "cell_type": "code",
   "execution_count": null,
   "metadata": {},
   "outputs": [],
   "source": []
  }
 ]
}